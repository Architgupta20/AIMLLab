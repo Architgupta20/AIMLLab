{
 "cells": [
  {
   "cell_type": "code",
   "execution_count": 9,
   "id": "be7e39d0-d85e-43cc-983d-d304d950ae20",
   "metadata": {},
   "outputs": [
    {
     "data": {
      "text/html": [
       "<div>\n",
       "<style scoped>\n",
       "    .dataframe tbody tr th:only-of-type {\n",
       "        vertical-align: middle;\n",
       "    }\n",
       "\n",
       "    .dataframe tbody tr th {\n",
       "        vertical-align: top;\n",
       "    }\n",
       "\n",
       "    .dataframe thead th {\n",
       "        text-align: right;\n",
       "    }\n",
       "</style>\n",
       "<table border=\"1\" class=\"dataframe\">\n",
       "  <thead>\n",
       "    <tr style=\"text-align: right;\">\n",
       "      <th></th>\n",
       "      <th>Age</th>\n",
       "      <th>Pclass</th>\n",
       "      <th>Fare</th>\n",
       "      <th>Survived</th>\n",
       "    </tr>\n",
       "  </thead>\n",
       "  <tbody>\n",
       "    <tr>\n",
       "      <th>0</th>\n",
       "      <td>22.0</td>\n",
       "      <td>3</td>\n",
       "      <td>7.2500</td>\n",
       "      <td>0</td>\n",
       "    </tr>\n",
       "    <tr>\n",
       "      <th>1</th>\n",
       "      <td>38.0</td>\n",
       "      <td>1</td>\n",
       "      <td>71.2833</td>\n",
       "      <td>1</td>\n",
       "    </tr>\n",
       "    <tr>\n",
       "      <th>2</th>\n",
       "      <td>26.0</td>\n",
       "      <td>3</td>\n",
       "      <td>7.9250</td>\n",
       "      <td>1</td>\n",
       "    </tr>\n",
       "    <tr>\n",
       "      <th>3</th>\n",
       "      <td>35.0</td>\n",
       "      <td>1</td>\n",
       "      <td>53.1000</td>\n",
       "      <td>1</td>\n",
       "    </tr>\n",
       "    <tr>\n",
       "      <th>4</th>\n",
       "      <td>35.0</td>\n",
       "      <td>3</td>\n",
       "      <td>8.0500</td>\n",
       "      <td>0</td>\n",
       "    </tr>\n",
       "  </tbody>\n",
       "</table>\n",
       "</div>"
      ],
      "text/plain": [
       "    Age  Pclass     Fare  Survived\n",
       "0  22.0       3   7.2500         0\n",
       "1  38.0       1  71.2833         1\n",
       "2  26.0       3   7.9250         1\n",
       "3  35.0       1  53.1000         1\n",
       "4  35.0       3   8.0500         0"
      ]
     },
     "execution_count": 9,
     "metadata": {},
     "output_type": "execute_result"
    }
   ],
   "source": [
    "# Import necessary libraries\n",
    "import pandas as pd\n",
    "from sklearn.model_selection import train_test_split\n",
    "from sklearn.preprocessing import StandardScaler\n",
    "from sklearn.linear_model import LogisticRegression\n",
    "from sklearn.neighbors import KNeighborsClassifier\n",
    "from sklearn.metrics import accuracy_score, classification_report\n",
    "\n",
    "# Load the dataset\n",
    "df = pd.read_csv('traintitanic_KNN.csv')  # Replace with the correct file path if different\n",
    "\n",
    "# Selecting relevant columns\n",
    "columns = ['Age', 'Pclass', 'Fare', 'Survived']\n",
    "filtered_data = df[columns].dropna()  # Remove rows with missing values in selected columns\n",
    "\n",
    "# Display the first few rows of the selected data\n",
    "filtered_data.head()"
   ]
  },
  {
   "cell_type": "code",
   "execution_count": 11,
   "id": "a7634a3a-57dd-4470-b1c0-86d1db4bc253",
   "metadata": {},
   "outputs": [],
   "source": [
    "# Features and target variable\n",
    "X = filtered_data[['Age', 'Pclass', 'Fare']].values  # Use only the specified features\n",
    "y = filtered_data['Survived'].values  # Target variable\n",
    "\n",
    "# Split the data into training and test sets\n",
    "X_train, X_test, y_train, y_test = train_test_split(X, y, test_size=0.3, random_state=42)"
   ]
  },
  {
   "cell_type": "code",
   "execution_count": 13,
   "id": "6339410e-4270-4925-8489-0b2f21b3d0b5",
   "metadata": {},
   "outputs": [
    {
     "name": "stdout",
     "output_type": "stream",
     "text": [
      "Logistic Regression Results:\n",
      "Accuracy: 0.71\n",
      "Classification Report:\n",
      "              precision    recall  f1-score   support\n",
      "\n",
      "           0       0.70      0.87      0.78       126\n",
      "           1       0.72      0.48      0.58        89\n",
      "\n",
      "    accuracy                           0.71       215\n",
      "   macro avg       0.71      0.67      0.68       215\n",
      "weighted avg       0.71      0.71      0.69       215\n",
      "\n"
     ]
    }
   ],
   "source": [
    "# Logistic Regression Model\n",
    "logistic_model = LogisticRegression(random_state=42, max_iter=1000)\n",
    "\n",
    "# Fit the model\n",
    "logistic_model.fit(X_train, y_train)\n",
    "\n",
    "# Make predictions\n",
    "y_pred_logistic = logistic_model.predict(X_test)\n",
    "\n",
    "# Evaluate the model\n",
    "logistic_accuracy = accuracy_score(y_test, y_pred_logistic)\n",
    "logistic_report = classification_report(y_test, y_pred_logistic)\n",
    "\n",
    "print(\"Logistic Regression Results:\")\n",
    "print(f\"Accuracy: {logistic_accuracy:.2f}\")\n",
    "print(\"Classification Report:\")\n",
    "print(logistic_report)"
   ]
  },
  {
   "cell_type": "code",
   "execution_count": 15,
   "id": "13de060f-5286-4259-b7dd-b9087ef43ffb",
   "metadata": {},
   "outputs": [
    {
     "name": "stdout",
     "output_type": "stream",
     "text": [
      "\n",
      "K-Nearest Neighbors (KNN) Results:\n",
      "Accuracy: 0.64\n",
      "Classification Report:\n",
      "              precision    recall  f1-score   support\n",
      "\n",
      "           0       0.67      0.74      0.70       126\n",
      "           1       0.57      0.49      0.53        89\n",
      "\n",
      "    accuracy                           0.64       215\n",
      "   macro avg       0.62      0.62      0.62       215\n",
      "weighted avg       0.63      0.64      0.63       215\n",
      "\n"
     ]
    }
   ],
   "source": [
    "# KNN Model\n",
    "knn_model = KNeighborsClassifier(n_neighbors=5)  # Default k=5\n",
    "\n",
    "# Fit the model\n",
    "knn_model.fit(X_train, y_train)\n",
    "\n",
    "# Make predictions\n",
    "y_pred_knn = knn_model.predict(X_test)\n",
    "\n",
    "# Evaluate the model\n",
    "knn_accuracy = accuracy_score(y_test, y_pred_knn)\n",
    "knn_report = classification_report(y_test, y_pred_knn)\n",
    "\n",
    "print(\"\\nK-Nearest Neighbors (KNN) Results:\")\n",
    "print(f\"Accuracy: {knn_accuracy:.2f}\")\n",
    "print(\"Classification Report:\")\n",
    "print(knn_report)"
   ]
  }
 ],
 "metadata": {
  "kernelspec": {
   "display_name": "Python 3 (ipykernel)",
   "language": "python",
   "name": "python3"
  },
  "language_info": {
   "codemirror_mode": {
    "name": "ipython",
    "version": 3
   },
   "file_extension": ".py",
   "mimetype": "text/x-python",
   "name": "python",
   "nbconvert_exporter": "python",
   "pygments_lexer": "ipython3",
   "version": "3.12.7"
  }
 },
 "nbformat": 4,
 "nbformat_minor": 5
}
